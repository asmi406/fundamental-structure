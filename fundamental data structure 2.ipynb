{
 "cells": [
  {
   "cell_type": "code",
   "execution_count": 2,
   "metadata": {},
   "outputs": [
    {
     "name": "stdout",
     "output_type": "stream",
     "text": [
      "['T', 'A', 'T', 'T', 'C', 'G', 'C', 'T', 'T', 'A', 'T', 'G', 'T', 'A', 'A', 'A', 'T', 'C', 'T', 'C', 'A', 'C', 'C', 'T', 'T', 'C', 'C', 'G', 'C', 'G', 'T', 'C', 'A', 'A', 'T', 'C', 'A', 'C', 'T', 'G', 'T', 'C', 'A', 'T', 'G', 'T', 'T', 'G', 'A', 'T', 'C', 'T', 'C', 'C', 'C', 'G', 'G', 'G', 'A', 'T', 'A', 'C', 'G', 'G', 'A', 'A', 'C', 'G', 'G', 'G', 'A', 'G', 'T', 'G', 'G', 'A', 'G', 'G', 'G', 'A', 'C', 'A', 'T', 'A', 'C', 'G', 'T', 'C', 'C', 'G', 'A', 'T', 'G', 'C', 'A', 'T', 'C', 'G', 'T', 'T', 'A', 'C', 'G', 'A', 'C', 'C', 'C', 'A', 'C', 'G', 'G', 'C', 'T', 'A', 'T', 'A', 'A', 'T', 'T', 'T', 'C', 'T', 'A', 'T', 'G', 'T', 'A', 'T', 'A', 'A', 'C', 'G', 'G', 'C', 'C', 'G', 'C', 'G', 'A', 'A', 'G', 'A', 'C', 'A', 'C', 'T', 'A', 'A', 'A', 'T', 'G', 'G', 'A', 'C', 'A', 'G', 'G', 'G', 'A', 'A', 'C', 'C', 'G', 'G', 'T', 'T', 'A', 'A', 'A', 'G', 'G', 'G', 'G', 'G', 'G', 'A', 'A', 'T', 'T', 'G', 'A', 'G', 'C', 'C', 'T', 'T', 'A', 'T', 'G', 'T', 'A', 'C', 'A', 'A', 'T', 'T', 'T', 'A', 'C', 'T']\n"
     ]
    }
   ],
   "source": [
    "import random as rn\n",
    "R = [rn.choice(['A','T','G','C']) for i in range (200)]\n",
    "print(R)"
   ]
  },
  {
   "cell_type": "code",
   "execution_count": 5,
   "metadata": {},
   "outputs": [
    {
     "data": {
      "text/plain": [
       "200"
      ]
     },
     "execution_count": 5,
     "metadata": {},
     "output_type": "execute_result"
    }
   ],
   "source": [
    "len(R)"
   ]
  },
  {
   "cell_type": "code",
   "execution_count": 6,
   "metadata": {},
   "outputs": [
    {
     "data": {
      "text/plain": [
       "'TCGTTCCATAAACTTTCTAAGAGAATGACATGCGACCTAAGATCACCCGGCCCAGACGGGATCAAAACGAGTTTTCTCTACGCAAGCCTCTAAGGCGTAGGATGTCGGGGTCCGATATACCGACTCGGGAGAGAGAACTCGAAGTGAACCAAGCGAGATTATCCTCTACGCTCCACGGTGTAGACGTTGCCACACAGAAT'"
      ]
     },
     "execution_count": 6,
     "metadata": {},
     "output_type": "execute_result"
    }
   ],
   "source": [
    "DNA = ''.join(R)\n",
    "DNA"
   ]
  },
  {
   "cell_type": "code",
   "execution_count": 8,
   "metadata": {},
   "outputs": [
    {
     "data": {
      "text/plain": [
       "(58, 11, 2, 2)"
      ]
     },
     "execution_count": 8,
     "metadata": {},
     "output_type": "execute_result"
    }
   ],
   "source": [
    "DNA.count('A'),DNA.count('AT'),DNA.count('GTA'),DNA.count('CAT')"
   ]
  },
  {
   "cell_type": "markdown",
   "metadata": {},
   "source": [
    "# Mini Assignment"
   ]
  },
  {
   "cell_type": "markdown",
   "metadata": {},
   "source": [
    "Create a DNA string of 10,000 characters and count the following: all combination of two characters, all combination of three characters."
   ]
  },
  {
   "cell_type": "code",
   "execution_count": 2,
   "metadata": {},
   "outputs": [
    {
     "name": "stdout",
     "output_type": "stream",
     "text": [
      "['C', 'A', 'G', 'C', 'G', 'T', 'C', 'G', 'G', 'G', 'A', 'G', 'G', 'C', 'C', 'C', 'C', 'G', 'T', 'C', 'C', 'C', 'A', 'A', 'G', 'G', 'C', 'G', 'A', 'A', 'T', 'T', 'C', 'C', 'A', 'A', 'C', 'G', 'A', 'C', 'C', 'T', 'A', 'G', 'C', 'C', 'A', 'T', 'G', 'C', 'A', 'G', 'T', 'A', 'T', 'G', 'A', 'A', 'C', 'G', 'A', 'A', 'A', 'C', 'A', 'A', 'T', 'T', 'T', 'T', 'C', 'T', 'A', 'G', 'C', 'G', 'T', 'T', 'G', 'C', 'G', 'G', 'C', 'C', 'C', 'A', 'T', 'C', 'A', 'A', 'T', 'A', 'T', 'C', 'A', 'T', 'C', 'G', 'T', 'T', 'A', 'T', 'T', 'G', 'G', 'G', 'T', 'T', 'G', 'A', 'A', 'C', 'T', 'G', 'T', 'T', 'C', 'G', 'G', 'A', 'T', 'T', 'A', 'T', 'A', 'C', 'G', 'G', 'G', 'C', 'T', 'A', 'C', 'A', 'T', 'A', 'G', 'G', 'T', 'A', 'A', 'A', 'A', 'C', 'A', 'C', 'G', 'G', 'C', 'T', 'T', 'G', 'C', 'A', 'T', 'G', 'T', 'T', 'C', 'C', 'G', 'C', 'C', 'G', 'T', 'A', 'A', 'C', 'C', 'T', 'T', 'C', 'G', 'A', 'C', 'A', 'T', 'A', 'G', 'T', 'C', 'T', 'A', 'C', 'A', 'C', 'T', 'G', 'A', 'G', 'T', 'C', 'G', 'A', 'C', 'G', 'C', 'G', 'T', 'G', 'A', 'A', 'A', 'C', 'A', 'C', 'C', 'C', 'G', 'A', 'T', 'G', 'C', 'G', 'T', 'T', 'G', 'A', 'G', 'G', 'G', 'T', 'A', 'T', 'G', 'T', 'C', 'G', 'T', 'T', 'T', 'T', 'C', 'T', 'A', 'T', 'G', 'T', 'A', 'C', 'A', 'T', 'A', 'G', 'T', 'C', 'C', 'T', 'A', 'G', 'C', 'C', 'T', 'A', 'A', 'A', 'T', 'T', 'G', 'A', 'C', 'A', 'A', 'A', 'C', 'T', 'A', 'T', 'T', 'G', 'G', 'G', 'T', 'G', 'T', 'T', 'C', 'G', 'A', 'T', 'C', 'G', 'T', 'A', 'C', 'T', 'C', 'C', 'A', 'G', 'G', 'C', 'G', 'A', 'A', 'A', 'T', 'A', 'A', 'G', 'C', 'A', 'T', 'G', 'T', 'C', 'A', 'T', 'G', 'A', 'C', 'G', 'G', 'C', 'T', 'T', 'G', 'A', 'A', 'T', 'A', 'G', 'A', 'T', 'A', 'C', 'T', 'C', 'C', 'A', 'C', 'T', 'T', 'T', 'G', 'C', 'A', 'A', 'T', 'A', 'T', 'C', 'A', 'C', 'C', 'A', 'C', 'C', 'C', 'A', 'A', 'C', 'G', 'C', 'C', 'G', 'C', 'T', 'C', 'G', 'C', 'A', 'T', 'C', 'A', 'C', 'C', 'C', 'A', 'T', 'A', 'T', 'A', 'A', 'C', 'T', 'C', 'T', 'C', 'C', 'T', 'T', 'A', 'G', 'C', 'G', 'T', 'A', 'T', 'T', 'T', 'G', 'T', 'A', 'A', 'C', 'A', 'G', 'C', 'A', 'G', 'A', 'C', 'G', 'T', 'C', 'T', 'A', 'C', 'T', 'G', 'A', 'G', 'C', 'A', 'C', 'C', 'C', 'T', 'T', 'T', 'C', 'A', 'C', 'T', 'C', 'G', 'G', 'T', 'G', 'G', 'C', 'T', 'T', 'A', 'T', 'C', 'A', 'T', 'T', 'C', 'C', 'T', 'T', 'C', 'C', 'A', 'A', 'A', 'C', 'G', 'G', 'A', 'G', 'G', 'G', 'C', 'T', 'C', 'A', 'T', 'G', 'G', 'T', 'T', 'G', 'T', 'G', 'T', 'T', 'A', 'A', 'G', 'T', 'C', 'T', 'C', 'C', 'C', 'G', 'A', 'C', 'A', 'T', 'A', 'T', 'T', 'A', 'T', 'T', 'A', 'C', 'A', 'T', 'C', 'G', 'C', 'T', 'G', 'C', 'C', 'A', 'C', 'C', 'A', 'T', 'G', 'A', 'A', 'C', 'G', 'C', 'T', 'A', 'T', 'G', 'T', 'G', 'G', 'A', 'A', 'T', 'A', 'G', 'G', 'T', 'G', 'A', 'C', 'G', 'G', 'A', 'A', 'T', 'A', 'A', 'T', 'T', 'T', 'C', 'G', 'A', 'G', 'G', 'A', 'G', 'T', 'C', 'A', 'G', 'G', 'T', 'C', 'G', 'T', 'C', 'A', 'G', 'T', 'A', 'G', 'T', 'A', 'T', 'T', 'A', 'C', 'T', 'A', 'G', 'G', 'G', 'T', 'C', 'T', 'T', 'T', 'G', 'G', 'G', 'A', 'A', 'A', 'C', 'G', 'G', 'G', 'A', 'A', 'A', 'A', 'C', 'C', 'G', 'T', 'T', 'G', 'A', 'C', 'G', 'A', 'G', 'C', 'A', 'T', 'T', 'T', 'C', 'A', 'G', 'T', 'T', 'C', 'A', 'G', 'A', 'C', 'C', 'G', 'A', 'C', 'C', 'G', 'C', 'G', 'C', 'G', 'G', 'A', 'G', 'T', 'C', 'C', 'T', 'G', 'C', 'C', 'C', 'T', 'A', 'C', 'A', 'C', 'A', 'C', 'G', 'A', 'T', 'C', 'T', 'A', 'T', 'C', 'G', 'G', 'A', 'G', 'C', 'A', 'C', 'T', 'T', 'C', 'C', 'T', 'G', 'T', 'A', 'G', 'T', 'A', 'G', 'C', 'G', 'A', 'G', 'C', 'T', 'C', 'G', 'T', 'A', 'G', 'T', 'G', 'A', 'G', 'C', 'T', 'T', 'A', 'C', 'C', 'G', 'C', 'G', 'C', 'G', 'G', 'C', 'C', 'T', 'G', 'G', 'A', 'C', 'G', 'A', 'G', 'C', 'A', 'A', 'C', 'G', 'C', 'T', 'C', 'T', 'G', 'T', 'T', 'A', 'T', 'A', 'A', 'T', 'G', 'A', 'C', 'A', 'G', 'A', 'A', 'C', 'C', 'C', 'C', 'A', 'A', 'A', 'A', 'T', 'G', 'A', 'G', 'T', 'G', 'T', 'A', 'C', 'G', 'G', 'C', 'T', 'C', 'C', 'C', 'A', 'G', 'G', 'A', 'T', 'G', 'C', 'A', 'C', 'T', 'C', 'A', 'T', 'C', 'T', 'A', 'C', 'C', 'A', 'C', 'C', 'C', 'G', 'T', 'C', 'T', 'A', 'T', 'A', 'G', 'T', 'G', 'G', 'C', 'G', 'A', 'T', 'C', 'A', 'G', 'T', 'A', 'C', 'G', 'C', 'G', 'C', 'T', 'A', 'C', 'G', 'G', 'G', 'G', 'C', 'G', 'G', 'C', 'C', 'A', 'C', 'C', 'G', 'C', 'T', 'C', 'A', 'C', 'G', 'G', 'T', 'A', 'A', 'A', 'C', 'A', 'G', 'G', 'G', 'A', 'A', 'T', 'A', 'T', 'A', 'T', 'G', 'T', 'A', 'T', 'C', 'G', 'A', 'G', 'A', 'T', 'C', 'T', 'C', 'A', 'T', 'A', 'G', 'A', 'T', 'C', 'T', 'G', 'A', 'T', 'C', 'T', 'G', 'C', 'G', 'C', 'G', 'T', 'G', 'A', 'G', 'G', 'C', 'A', 'A', 'C', 'C', 'T', 'T', 'A', 'G', 'A', 'G', 'G', 'G', 'C', 'T', 'C', 'G', 'G', 'A', 'C', 'C', 'T', 'G', 'A', 'A', 'C', 'C', 'G', 'A', 'C', 'C', 'A', 'A', 'G', 'G', 'A', 'T', 'T', 'T', 'T', 'C', 'A', 'C', 'A', 'T', 'T', 'A', 'T', 'A', 'G', 'A', 'T', 'C', 'A', 'A', 'A', 'A', 'A', 'T', 'G', 'T', 'A', 'G', 'A', 'C', 'C', 'T', 'T', 'G', 'C', 'C', 'G', 'A', 'G', 'A', 'T', 'A', 'C', 'C', 'T', 'A', 'G', 'G', 'A', 'C', 'T', 'G', 'C', 'G', 'C', 'C', 'G', 'T', 'A', 'A', 'G', 'T', 'T', 'T', 'C', 'C', 'C', 'T', 'C', 'G', 'G', 'A', 'C', 'G', 'C', 'C', 'T', 'C', 'G', 'G', 'A', 'C', 'G', 'C', 'A', 'A']\n"
     ]
    }
   ],
   "source": [
    "import random as rn\n",
    "A = [rn.choice(['A','T','G','C']) for i in range (1000)]\n",
    "print(A)"
   ]
  },
  {
   "cell_type": "code",
   "execution_count": 6,
   "metadata": {},
   "outputs": [
    {
     "data": {
      "text/plain": [
       "'CAGCGTCGGGAGGCCCCGTCCCAAGGCGAATTCCAACGACCTAGCCATGCAGTATGAACGAAACAATTTTCTAGCGTTGCGGCCCATCAATATCATCGTTATTGGGTTGAACTGTTCGGATTATACGGGCTACATAGGTAAAACACGGCTTGCATGTTCCGCCGTAACCTTCGACATAGTCTACACTGAGTCGACGCGTGAAACACCCGATGCGTTGAGGGTATGTCGTTTTCTATGTACATAGTCCTAGCCTAAATTGACAAACTATTGGGTGTTCGATCGTACTCCAGGCGAAATAAGCATGTCATGACGGCTTGAATAGATACTCCACTTTGCAATATCACCACCCAACGCCGCTCGCATCACCCATATAACTCTCCTTAGCGTATTTGTAACAGCAGACGTCTACTGAGCACCCTTTCACTCGGTGGCTTATCATTCCTTCCAAACGGAGGGCTCATGGTTGTGTTAAGTCTCCCGACATATTATTACATCGCTGCCACCATGAACGCTATGTGGAATAGGTGACGGAATAATTTCGAGGAGTCAGGTCGTCAGTAGTATTACTAGGGTCTTTGGGAAACGGGAAAACCGTTGACGAGCATTTCAGTTCAGACCGACCGCGCGGAGTCCTGCCCTACACACGATCTATCGGAGCACTTCCTGTAGTAGCGAGCTCGTAGTGAGCTTACCGCGCGGCCTGGACGAGCAACGCTCTGTTATAATGACAGAACCCCAAAATGAGTGTACGGCTCCCAGGATGCACTCATCTACCACCCGTCTATAGTGGCGATCAGTACGCGCTACGGGGCGGCCACCGCTCACGGTAAACAGGGAATATATGTATCGAGATCTCATAGATCTGATCTGCGCGTGAGGCAACCTTAGAGGGCTCGGACCTGAACCGACCAAGGATTTTCACATTATAGATCAAAAATGTAGACCTTGCCGAGATACCTAGGACTGCGCCGTAAGTTTCCCTCGGACGCCTCGGACGCAA'"
      ]
     },
     "execution_count": 6,
     "metadata": {},
     "output_type": "execute_result"
    }
   ],
   "source": [
    "DNA = ''.join(A)\n",
    "DNA"
   ]
  },
  {
   "cell_type": "code",
   "execution_count": 7,
   "metadata": {},
   "outputs": [
    {
     "data": {
      "text/plain": [
       "(69, 60, 16, 11)"
      ]
     },
     "execution_count": 7,
     "metadata": {},
     "output_type": "execute_result"
    }
   ],
   "source": [
    "DNA.count('AT'),DNA.count('GC'),DNA.count('ATG'),DNA.count('TGC')"
   ]
  },
  {
   "cell_type": "markdown",
   "metadata": {},
   "source": [
    "##  Tuples"
   ]
  },
  {
   "cell_type": "markdown",
   "metadata": {},
   "source": []
  }
 ],
 "metadata": {
  "kernelspec": {
   "display_name": "Python 3",
   "language": "python",
   "name": "python3"
  },
  "language_info": {
   "codemirror_mode": {
    "name": "ipython",
    "version": 3
   },
   "file_extension": ".py",
   "mimetype": "text/x-python",
   "name": "python",
   "nbconvert_exporter": "python",
   "pygments_lexer": "ipython3",
   "version": "3.7.6"
  }
 },
 "nbformat": 4,
 "nbformat_minor": 4
}
