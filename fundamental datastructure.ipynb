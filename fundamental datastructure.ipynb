{
 "cells": [
  {
   "cell_type": "code",
   "execution_count": 7,
   "metadata": {},
   "outputs": [],
   "source": [
    "A = [1,2,3,4,5]"
   ]
  },
  {
   "cell_type": "code",
   "execution_count": 8,
   "metadata": {},
   "outputs": [
    {
     "data": {
      "text/plain": [
       "[1, 2, 3, 4, 5]"
      ]
     },
     "execution_count": 8,
     "metadata": {},
     "output_type": "execute_result"
    }
   ],
   "source": [
    "A"
   ]
  },
  {
   "cell_type": "markdown",
   "metadata": {},
   "source": [
    "Indexing of list"
   ]
  },
  {
   "cell_type": "code",
   "execution_count": 10,
   "metadata": {},
   "outputs": [
    {
     "data": {
      "text/plain": [
       "(1, 2, 3)"
      ]
     },
     "execution_count": 10,
     "metadata": {},
     "output_type": "execute_result"
    }
   ],
   "source": [
    "A[0],A[1],A[2]"
   ]
  },
  {
   "cell_type": "markdown",
   "metadata": {},
   "source": [
    ".Reverse indexing is also possible"
   ]
  },
  {
   "cell_type": "code",
   "execution_count": 11,
   "metadata": {},
   "outputs": [
    {
     "data": {
      "text/plain": [
       "(5, 4, 3)"
      ]
     },
     "execution_count": 11,
     "metadata": {},
     "output_type": "execute_result"
    }
   ],
   "source": [
    "A[-1],A[-2],A[-3]"
   ]
  },
  {
   "cell_type": "markdown",
   "metadata": {},
   "source": [
    "To find the length of list"
   ]
  },
  {
   "cell_type": "code",
   "execution_count": 12,
   "metadata": {},
   "outputs": [
    {
     "data": {
      "text/plain": [
       "5"
      ]
     },
     "execution_count": 12,
     "metadata": {},
     "output_type": "execute_result"
    }
   ],
   "source": [
    "len(A)"
   ]
  },
  {
   "cell_type": "markdown",
   "metadata": {},
   "source": [
    "To add the element from last."
   ]
  },
  {
   "cell_type": "code",
   "execution_count": 13,
   "metadata": {},
   "outputs": [],
   "source": [
    "A.append(6)"
   ]
  },
  {
   "cell_type": "code",
   "execution_count": 14,
   "metadata": {},
   "outputs": [
    {
     "data": {
      "text/plain": [
       "[1, 2, 3, 4, 5, 6]"
      ]
     },
     "execution_count": 14,
     "metadata": {},
     "output_type": "execute_result"
    }
   ],
   "source": [
    "A"
   ]
  },
  {
   "cell_type": "markdown",
   "metadata": {},
   "source": [
    "To find the sum of the elements"
   ]
  },
  {
   "cell_type": "code",
   "execution_count": 15,
   "metadata": {},
   "outputs": [
    {
     "data": {
      "text/plain": [
       "21"
      ]
     },
     "execution_count": 15,
     "metadata": {},
     "output_type": "execute_result"
    }
   ],
   "source": [
    "sum(A)"
   ]
  },
  {
   "cell_type": "markdown",
   "metadata": {},
   "source": [
    ".To find maximum and minimum of the list."
   ]
  },
  {
   "cell_type": "code",
   "execution_count": 16,
   "metadata": {},
   "outputs": [
    {
     "data": {
      "text/plain": [
       "(6, 1)"
      ]
     },
     "execution_count": 16,
     "metadata": {},
     "output_type": "execute_result"
    }
   ],
   "source": [
    "max(A),min(A)"
   ]
  },
  {
   "cell_type": "markdown",
   "metadata": {},
   "source": [
    ".To create list of heterogenous element types."
   ]
  },
  {
   "cell_type": "code",
   "execution_count": 29,
   "metadata": {},
   "outputs": [],
   "source": [
    "B = [1,2.3,3,4,\"Apple\",False]\n"
   ]
  },
  {
   "cell_type": "code",
   "execution_count": 30,
   "metadata": {},
   "outputs": [
    {
     "data": {
      "text/plain": [
       "[1, 2.3, 3, 4, 'Apple', False]"
      ]
     },
     "execution_count": 30,
     "metadata": {},
     "output_type": "execute_result"
    }
   ],
   "source": [
    "B"
   ]
  },
  {
   "cell_type": "markdown",
   "metadata": {},
   "source": [
    "To find the type of elements of a list."
   ]
  },
  {
   "cell_type": "code",
   "execution_count": 33,
   "metadata": {},
   "outputs": [
    {
     "data": {
      "text/plain": [
       "(float, int, str, bool)"
      ]
     },
     "execution_count": 33,
     "metadata": {},
     "output_type": "execute_result"
    }
   ],
   "source": [
    "type(B[1]),type(B[2]),type(B[4]),type(B[5])"
   ]
  },
  {
   "cell_type": "markdown",
   "metadata": {},
   "source": [
    "To create a list of list."
   ]
  },
  {
   "cell_type": "code",
   "execution_count": 34,
   "metadata": {},
   "outputs": [],
   "source": [
    "L = [[1,2,3],[4,5,6],[7,8,9]]"
   ]
  },
  {
   "cell_type": "code",
   "execution_count": 35,
   "metadata": {},
   "outputs": [
    {
     "data": {
      "text/plain": [
       "[[1, 2, 3], [4, 5, 6], [7, 8, 9]]"
      ]
     },
     "execution_count": 35,
     "metadata": {},
     "output_type": "execute_result"
    }
   ],
   "source": [
    "L"
   ]
  },
  {
   "cell_type": "code",
   "execution_count": 37,
   "metadata": {},
   "outputs": [
    {
     "data": {
      "text/plain": [
       "[1, 2, 3]"
      ]
     },
     "execution_count": 37,
     "metadata": {},
     "output_type": "execute_result"
    }
   ],
   "source": [
    "L[0]"
   ]
  },
  {
   "cell_type": "code",
   "execution_count": 38,
   "metadata": {},
   "outputs": [
    {
     "data": {
      "text/plain": [
       "2"
      ]
     },
     "execution_count": 38,
     "metadata": {},
     "output_type": "execute_result"
    }
   ],
   "source": [
    "L[0][1]"
   ]
  },
  {
   "cell_type": "markdown",
   "metadata": {},
   "source": [
    "To add two list. It is not as usual as addition."
   ]
  },
  {
   "cell_type": "code",
   "execution_count": 39,
   "metadata": {},
   "outputs": [
    {
     "data": {
      "text/plain": [
       "([1, 2, 3, 2, 3, 4], {1, 2, 3, 4})"
      ]
     },
     "execution_count": 39,
     "metadata": {},
     "output_type": "execute_result"
    }
   ],
   "source": [
    "L1 = [1,2,3] ; L2 =[2,3,4]\n",
    "L1+L2, set(L1+L2)"
   ]
  },
  {
   "cell_type": "markdown",
   "metadata": {},
   "source": [
    "To add element from end of the list."
   ]
  },
  {
   "cell_type": "code",
   "execution_count": 2,
   "metadata": {},
   "outputs": [
    {
     "data": {
      "text/plain": [
       "[1, 2, 3, 4, 5, 7, 100]"
      ]
     },
     "execution_count": 2,
     "metadata": {},
     "output_type": "execute_result"
    }
   ],
   "source": [
    "L = [1,2,3,4,5,7]\n",
    "L.append(100)\n",
    "L"
   ]
  },
  {
   "cell_type": "markdown",
   "metadata": {},
   "source": [
    "To insert element(100) at specific index (1)"
   ]
  },
  {
   "cell_type": "code",
   "execution_count": 3,
   "metadata": {},
   "outputs": [
    {
     "data": {
      "text/plain": [
       "[1, 2, 100, 3, 4, 5, 6]"
      ]
     },
     "execution_count": 3,
     "metadata": {},
     "output_type": "execute_result"
    }
   ],
   "source": [
    "L = [1,2,3,4,5,6]\n",
    "L.insert(2,100)\n",
    "L"
   ]
  },
  {
   "cell_type": "markdown",
   "metadata": {},
   "source": [
    "To remove specific element from list. It will remove the first occurance."
   ]
  },
  {
   "cell_type": "code",
   "execution_count": 5,
   "metadata": {},
   "outputs": [
    {
     "data": {
      "text/plain": [
       "[1, 3, 4, 5, 2]"
      ]
     },
     "execution_count": 5,
     "metadata": {},
     "output_type": "execute_result"
    }
   ],
   "source": [
    "L = [1,2,3,4,5,2]\n",
    "L.remove(2)\n",
    "L"
   ]
  },
  {
   "cell_type": "markdown",
   "metadata": {},
   "source": [
    "L = [1,2,3,4,5,6]"
   ]
  },
  {
   "cell_type": "code",
   "execution_count": 1,
   "metadata": {},
   "outputs": [
    {
     "data": {
      "text/plain": [
       "[1, 100, 2, 3, 4, 5]"
      ]
     },
     "execution_count": 1,
     "metadata": {},
     "output_type": "execute_result"
    }
   ],
   "source": [
    "L = [1,2,3,4,5]\n",
    "L.insert(1,100)\n",
    "L"
   ]
  },
  {
   "cell_type": "code",
   "execution_count": 2,
   "metadata": {},
   "outputs": [
    {
     "data": {
      "text/plain": [
       "[1, 2, 200, 3, 4, 5, 6]"
      ]
     },
     "execution_count": 2,
     "metadata": {},
     "output_type": "execute_result"
    }
   ],
   "source": [
    "L = [1,2,3,4,5,6]\n",
    "L.insert(2,200)\n",
    "L"
   ]
  },
  {
   "cell_type": "markdown",
   "metadata": {},
   "source": [
    ". To remove specific element from list. It will remove the first occurance"
   ]
  },
  {
   "cell_type": "code",
   "execution_count": 3,
   "metadata": {},
   "outputs": [
    {
     "data": {
      "text/plain": [
       "[1, 2, 3, 5, 6, 4]"
      ]
     },
     "execution_count": 3,
     "metadata": {},
     "output_type": "execute_result"
    }
   ],
   "source": [
    "L = [1,4,2,3,5,6,4]\n",
    "L.remove(4)\n",
    "L"
   ]
  },
  {
   "cell_type": "code",
   "execution_count": 4,
   "metadata": {},
   "outputs": [
    {
     "data": {
      "text/plain": [
       "[1, 2, 3, 4, 6, 7]"
      ]
     },
     "execution_count": 4,
     "metadata": {},
     "output_type": "execute_result"
    }
   ],
   "source": [
    "L = [1,2,3,4,6,7,8]\n",
    "L.pop(-1)\n",
    "L"
   ]
  },
  {
   "cell_type": "markdown",
   "metadata": {},
   "source": [
    ". To sort the list."
   ]
  },
  {
   "cell_type": "code",
   "execution_count": 5,
   "metadata": {},
   "outputs": [
    {
     "data": {
      "text/plain": [
       "[1, 3, 4, 6, 8, 9, 10]"
      ]
     },
     "execution_count": 5,
     "metadata": {},
     "output_type": "execute_result"
    }
   ],
   "source": [
    "L = [1,4,3,8,6,10,9]\n",
    "L.sort()\n",
    "L"
   ]
  },
  {
   "cell_type": "markdown",
   "metadata": {},
   "source": [
    "To reverse the list."
   ]
  },
  {
   "cell_type": "code",
   "execution_count": 6,
   "metadata": {},
   "outputs": [
    {
     "data": {
      "text/plain": [
       "[6, 5, 4, 3, 2, 1]"
      ]
     },
     "execution_count": 6,
     "metadata": {},
     "output_type": "execute_result"
    }
   ],
   "source": [
    "L = [1,2,3,4,5,6]\n",
    "L.reverse()\n",
    "L"
   ]
  },
  {
   "cell_type": "markdown",
   "metadata": {},
   "source": [
    "List comprehension"
   ]
  },
  {
   "cell_type": "code",
   "execution_count": 8,
   "metadata": {},
   "outputs": [
    {
     "data": {
      "text/plain": [
       "[0,\n",
       " 1,\n",
       " 2,\n",
       " 3,\n",
       " 4,\n",
       " 5,\n",
       " 6,\n",
       " 7,\n",
       " 8,\n",
       " 9,\n",
       " 10,\n",
       " 11,\n",
       " 12,\n",
       " 13,\n",
       " 14,\n",
       " 15,\n",
       " 16,\n",
       " 17,\n",
       " 18,\n",
       " 19,\n",
       " 20,\n",
       " 21,\n",
       " 22,\n",
       " 23,\n",
       " 24,\n",
       " 25,\n",
       " 26,\n",
       " 27,\n",
       " 28]"
      ]
     },
     "execution_count": 8,
     "metadata": {},
     "output_type": "execute_result"
    }
   ],
   "source": [
    "L = [x for x in range (29)]\n",
    "L"
   ]
  },
  {
   "cell_type": "code",
   "execution_count": 13,
   "metadata": {},
   "outputs": [
    {
     "name": "stdout",
     "output_type": "stream",
     "text": [
      "[0, 2, 4, 6, 8, 10, 12, 14, 16, 18, 20, 22, 24, 26, 28, 30, 32, 34, 36, 38, 40, 42, 44, 46, 48]\n"
     ]
    }
   ],
   "source": [
    "L = [x for x in range(50)"
   ]
  },
  {
   "cell_type": "code",
   "execution_count": 14,
   "metadata": {},
   "outputs": [
    {
     "name": "stdout",
     "output_type": "stream",
     "text": [
      "[0, 3, 6, 9, 12, 15, 18, 21, 24, 27, 30, 33, 36, 39, 42, 45, 48]\n"
     ]
    }
   ],
   "source": [
    "L = [x for x in range(50) if x%3==0]\n",
    "print(L)"
   ]
  },
  {
   "cell_type": "code",
   "execution_count": 15,
   "metadata": {},
   "outputs": [
    {
     "name": "stdout",
     "output_type": "stream",
     "text": [
      "[16, 28, 34, 52, 7, 3, 62, 25, 53, 76, 46, 46, 94, 7, 14, 31, 70, 9, 26, 80, 87, 75, 25, 3, 76, 10, 50, 1, 7, 64, 55, 52, 95, 58, 84, 61, 67, 49, 8, 81, 25, 79, 83, 76, 88, 62, 93, 91, 18, 60, 55, 22, 46, 93, 92, 12, 17, 17, 30, 26, 89, 42, 1, 38, 74, 94, 38, 11, 71, 7, 18, 18, 22, 49, 71, 14, 41, 65, 48, 50, 81, 74, 29, 32, 14, 8, 68, 39, 99, 97, 72, 84, 15, 31, 31, 15, 68, 96, 73, 4, 71, 37, 21, 43, 95, 59, 80, 32, 68, 8, 6, 91, 75, 15, 5, 53, 73, 65, 41, 19, 41, 0, 97, 59, 30, 95, 56, 96, 77, 98, 42, 13, 26, 62, 49, 97, 82, 53, 68, 54, 36, 11, 7, 6, 69, 87, 54, 63, 83, 77, 92, 48, 75, 65, 22, 61, 95, 5, 80, 64, 62, 6, 60, 91, 55, 93, 62, 65, 78, 74, 81, 89, 95, 100, 88, 84, 30, 23, 61, 68, 24, 73, 23, 50, 91, 8, 56, 10, 40, 72, 84, 41, 88, 3, 94, 52, 9, 64, 40, 78]\n"
     ]
    }
   ],
   "source": [
    "import random as rn\n",
    "R = [rn.randint(0,100) for i in range(200)]\n",
    "print(R)"
   ]
  },
  {
   "cell_type": "code",
   "execution_count": 18,
   "metadata": {},
   "outputs": [
    {
     "data": {
      "text/plain": [
       "200"
      ]
     },
     "execution_count": 18,
     "metadata": {},
     "output_type": "execute_result"
    }
   ],
   "source": [
    "len(R)"
   ]
  },
  {
   "cell_type": "code",
   "execution_count": 19,
   "metadata": {},
   "outputs": [
    {
     "name": "stdout",
     "output_type": "stream",
     "text": [
      "[146, 200, 158, 67, 82, 146, 73, 74, 97, 190, 9, 181, 154, 43, 105, 49, 132, 40, 10, 179, 16, 80, 192, 152, 44, 152, 197, 30, 142, 185, 147, 114, 27, 24, 58, 33, 71, 124, 170, 71, 126, 24, 64, 121, 175, 101, 12, 85, 152, 59, 118, 187, 159, 17, 146, 24, 148, 200, 53, 126, 46, 50, 198, 150, 157, 25, 40, 61, 150, 169, 122, 176, 80, 40, 166, 46, 154, 86, 178, 181, 189, 10, 178, 173, 53, 55, 30, 83, 68, 51, 6, 141, 78, 55, 16, 14, 144, 110, 146, 74, 74, 142, 143, 39, 139, 62, 94, 41, 142, 7, 21, 184, 96, 144, 135, 176, 16, 66, 108, 92, 191, 43, 32, 27, 20, 68, 196, 13, 198, 183, 189, 128, 44, 72, 154, 197, 33, 162, 143, 109, 119, 117, 173, 161, 118, 37, 0, 125, 194, 166, 9, 21, 146, 200, 157, 168, 130, 194, 182, 14, 151, 20, 19, 97, 152, 110, 163, 152, 197, 149, 19, 151, 116, 150, 154, 197, 0, 8, 113, 41, 138, 15, 78, 109, 38, 36, 11, 85, 72, 91, 85, 94, 145, 181, 26, 78, 31, 58, 59, 96, 100, 51, 190, 123, 94, 166, 69, 141, 52, 130, 87, 63, 169, 156, 96, 118, 104, 145, 21, 23, 50, 130, 79, 87, 165, 148, 155, 70, 76, 98, 105, 162, 151, 77, 200, 16, 87, 105, 169, 30, 139, 139, 113, 6, 141, 120, 61, 159, 49, 131, 128, 126, 172, 20, 11, 51, 164, 84, 77, 119, 1, 148, 153, 167, 197, 7, 79, 156, 158, 76, 8, 160, 99, 40, 169, 16, 135, 125, 168, 170, 150, 88, 106, 1, 119, 92, 94, 186, 196, 45, 95, 89, 175, 57, 79, 82, 188, 178, 37, 57]\n"
     ]
    }
   ],
   "source": [
    "import random as rn\n",
    "R = [rn.randint(0,200) for i in range(300) ]\n",
    "print(R)"
   ]
  },
  {
   "cell_type": "code",
   "execution_count": 21,
   "metadata": {},
   "outputs": [
    {
     "name": "stdout",
     "output_type": "stream",
     "text": [
      "Counter({146: 5, 16: 5, 152: 5, 197: 5, 200: 4, 154: 4, 40: 4, 150: 4, 169: 4, 94: 4, 74: 3, 181: 3, 105: 3, 30: 3, 142: 3, 24: 3, 126: 3, 85: 3, 118: 3, 148: 3, 166: 3, 178: 3, 51: 3, 141: 3, 78: 3, 139: 3, 21: 3, 96: 3, 20: 3, 119: 3, 130: 3, 151: 3, 87: 3, 79: 3, 158: 2, 82: 2, 97: 2, 190: 2, 9: 2, 43: 2, 49: 2, 10: 2, 80: 2, 44: 2, 27: 2, 58: 2, 33: 2, 71: 2, 170: 2, 175: 2, 59: 2, 159: 2, 53: 2, 46: 2, 50: 2, 198: 2, 157: 2, 61: 2, 176: 2, 189: 2, 173: 2, 55: 2, 68: 2, 6: 2, 14: 2, 144: 2, 110: 2, 143: 2, 41: 2, 7: 2, 135: 2, 92: 2, 196: 2, 128: 2, 72: 2, 162: 2, 109: 2, 37: 2, 0: 2, 125: 2, 194: 2, 168: 2, 19: 2, 8: 2, 113: 2, 11: 2, 145: 2, 156: 2, 76: 2, 77: 2, 1: 2, 57: 2, 67: 1, 73: 1, 132: 1, 179: 1, 192: 1, 185: 1, 147: 1, 114: 1, 124: 1, 64: 1, 121: 1, 101: 1, 12: 1, 187: 1, 17: 1, 25: 1, 122: 1, 86: 1, 83: 1, 39: 1, 62: 1, 184: 1, 66: 1, 108: 1, 191: 1, 32: 1, 13: 1, 183: 1, 117: 1, 161: 1, 182: 1, 163: 1, 149: 1, 116: 1, 138: 1, 15: 1, 38: 1, 36: 1, 91: 1, 26: 1, 31: 1, 100: 1, 123: 1, 69: 1, 52: 1, 63: 1, 104: 1, 23: 1, 165: 1, 155: 1, 70: 1, 98: 1, 120: 1, 131: 1, 172: 1, 164: 1, 84: 1, 153: 1, 167: 1, 160: 1, 99: 1, 88: 1, 106: 1, 186: 1, 45: 1, 95: 1, 89: 1, 188: 1})\n"
     ]
    }
   ],
   "source": [
    "import collections\n",
    "#High performance counting\n",
    "C = collections.Counter(R)\n",
    "print(C)"
   ]
  },
  {
   "cell_type": "code",
   "execution_count": null,
   "metadata": {},
   "outputs": [],
   "source": []
  },
  {
   "cell_type": "code",
   "execution_count": null,
   "metadata": {},
   "outputs": [],
   "source": []
  }
 ],
 "metadata": {
  "kernelspec": {
   "display_name": "Python 3",
   "language": "python",
   "name": "python3"
  },
  "language_info": {
   "codemirror_mode": {
    "name": "ipython",
    "version": 3
   },
   "file_extension": ".py",
   "mimetype": "text/x-python",
   "name": "python",
   "nbconvert_exporter": "python",
   "pygments_lexer": "ipython3",
   "version": "3.7.6"
  }
 },
 "nbformat": 4,
 "nbformat_minor": 4
}
